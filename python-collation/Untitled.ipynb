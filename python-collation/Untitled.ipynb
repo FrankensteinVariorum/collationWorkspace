{
 "cells": [
  {
   "cell_type": "markdown",
   "id": "9492fb5c",
   "metadata": {},
   "source": [
    "# How to install and launch Jupyter\n",
    "\n",
    "## Requirements\n",
    "- PyCharm\n",
    "\n",
    "## Steps\n",
    "If you do not have a `venv` folder -- or configured a PyCharm project -- in your `python-collation` directory; follow all of the steps from the beginning. Otherwise, you can skip to Step 3. \n",
    "\n",
    "1. Open PyCharm and check for any updates.Go to File,  Open, and with PyCharm's file explorer, open the `collationWorkspace\\python-collation\\` directory located in your repository. Open the folder as a project. \n",
    "\n",
    "2. A message should appear saying that the Python interpreter is missing/cannot be found. Click 'Configure a Python interpreter' then 'Add New Interpreter'. The Python Environment location should be located in `collationWorkspace\\python-collation\\`. If the location is correct, click on 'OK' and create the new Python environment. When the creation process is completed, and nothing is being processed, you can move onto the next step.\n",
    "\n",
    "3. Go to the Terminal and type in `pip install jupyter`. Let everything install until nothing is being processed."
   ]
  },
  {
   "cell_type": "code",
   "execution_count": null,
   "id": "a6711de4",
   "metadata": {},
   "outputs": [],
   "source": [
    "# terminal command\n",
    "pip install jupyter"
   ]
  },
  {
   "cell_type": "markdown",
   "id": "7da2b561",
   "metadata": {},
   "source": [
    "4. Open up the Python terminal, and enter `jupyter notebook` to launch the Jupyter Notebook environment."
   ]
  },
  {
   "cell_type": "code",
   "execution_count": null,
   "id": "8fb3fcd3",
   "metadata": {},
   "outputs": [],
   "source": [
    "jupyter notebook"
   ]
  },
  {
   "cell_type": "markdown",
   "id": "ecf331a6",
   "metadata": {},
   "source": [
    "5. Your browser should automatically pop up and redirect you to the Jupyter Notebook environment. If not, put in localhost:8888/tree in your browser. Then you are all set :)"
   ]
  }
 ],
 "metadata": {
  "kernelspec": {
   "display_name": "Python 3 (ipykernel)",
   "language": "python",
   "name": "python3"
  },
  "language_info": {
   "codemirror_mode": {
    "name": "ipython",
    "version": 3
   },
   "file_extension": ".py",
   "mimetype": "text/x-python",
   "name": "python",
   "nbconvert_exporter": "python",
   "pygments_lexer": "ipython3",
   "version": "3.11.4"
  }
 },
 "nbformat": 4,
 "nbformat_minor": 5
}
